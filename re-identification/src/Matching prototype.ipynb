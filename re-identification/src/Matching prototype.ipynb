{
 "cells": [
  {
   "cell_type": "markdown",
   "id": "999765e9-1577-4a02-ad5f-bf1706b2c43c",
   "metadata": {},
   "source": [
    "# Disclaimer\n",
    "\n",
    "This is an experiment in testing whether enough information can be gained from short reads of DNA to produce a piece of information that can be used to re-identify individuals. The answer seems to be positive even for something 2 read locations (providing at maximum 400 bits) under a set of (very strong) simplifying assumptions suitable for a one-day demo.\n",
    "\n",
    "- We can retrieve 100 base pairs from a given location(s)\n",
    "- It's possible to do this from 1-5 locations\n",
    "- We assume the reader has a 1/100 failure rate and the data is corrupted randomly and independently\n",
    "- We assume that people differ in at least 20% of the genetic material\n",
    "- We assume that the user supplies an actual sample\n",
    "- We want to be able to generate an ephemeral set of information that re-identifies the user to one application.\n",
    "\n",
    "Note that the current construction is not suitable for use in a security context as the security properties have not been investigated and several risks are clearly on the table:\n",
    "\n",
    "- the distribution of genome letters may not be uniform at a given read site, reducing the security of the scheme (the reduction depends on the amount of structure)\n",
    "- at the moment the salt must be kept secret, if an attacker gets access to the salt, they may start to try and brute force the original genetic information (steps have not been taken to prevent this)\n",
    "- if multiple salts and thus \"mappings\" of the genetic data are available to the attacker, the situation may be considerably worse.\n",
    "\n"
   ]
  },
  {
   "cell_type": "code",
   "execution_count": 1,
   "id": "547d2d5a-16e7-47a5-849c-36f5673a2fdd",
   "metadata": {},
   "outputs": [],
   "source": [
    "import hashlib\n",
    "import random\n",
    "import numpy as np\n",
    "from typing import List\n",
    "import matplotlib.pyplot as plt"
   ]
  },
  {
   "cell_type": "code",
   "execution_count": 2,
   "id": "112174be-1bfa-40be-81df-7fbaa843450d",
   "metadata": {},
   "outputs": [],
   "source": [
    "def make_random_dna(count: int) -> str:\n",
    "    return \"\".join(map(lambda x: random.choice('ATCG'), range(count)))"
   ]
  },
  {
   "cell_type": "code",
   "execution_count": 3,
   "id": "6cd59855-07f0-4273-85ef-96e52c22a90d",
   "metadata": {},
   "outputs": [],
   "source": [
    "def perturb_random_dna(dna: str, error_rate: float) -> str:\n",
    "    result = []\n",
    "    for letter in dna:\n",
    "        result.append(random.choice('ATCG'.replace(letter, '')) if random.uniform(0.0, 1.0) < error_rate else letter)\n",
    "    return \"\".join(result)"
   ]
  },
  {
   "cell_type": "code",
   "execution_count": 4,
   "id": "1de58c5f-b8bc-4cec-9fdc-e8e6e273d4f0",
   "metadata": {},
   "outputs": [],
   "source": [
    "def differences(dna1: str, dna2: str) -> int:\n",
    "    diffs = 0\n",
    "    for l1, l2 in zip(dna1, dna2):\n",
    "        diffs += 1 if l1 != l2 else 0\n",
    "    return diffs"
   ]
  },
  {
   "cell_type": "code",
   "execution_count": 5,
   "id": "ab06050e-affd-47ec-b8d4-d4145958d828",
   "metadata": {},
   "outputs": [
    {
     "data": {
      "text/plain": [
       "'CGAGTCTTCAGTGCTTACAGTGGAACTCTAATAGATTAGCCAGACTGCTT'"
      ]
     },
     "execution_count": 5,
     "metadata": {},
     "output_type": "execute_result"
    }
   ],
   "source": [
    "test = make_random_dna(50)\n",
    "test"
   ]
  },
  {
   "cell_type": "code",
   "execution_count": 6,
   "id": "a3ddca89-561d-465e-97cd-b227884d9bcd",
   "metadata": {},
   "outputs": [
    {
     "data": {
      "text/plain": [
       "'CGAGTCTTCAGTGCATACAGTGGAACTCTAATCTATTAGACAGACTGCTT'"
      ]
     },
     "execution_count": 6,
     "metadata": {},
     "output_type": "execute_result"
    }
   ],
   "source": [
    "perturbed = perturb_random_dna(test, 0.1)\n",
    "perturbed"
   ]
  },
  {
   "cell_type": "code",
   "execution_count": 7,
   "id": "8c010c1a-8804-4954-a7f6-c97a21d489af",
   "metadata": {},
   "outputs": [
    {
     "data": {
      "text/plain": [
       "4"
      ]
     },
     "execution_count": 7,
     "metadata": {},
     "output_type": "execute_result"
    }
   ],
   "source": [
    "differences(test, perturbed)"
   ]
  },
  {
   "cell_type": "code",
   "execution_count": 8,
   "id": "d4fda6b6-b8c5-4e49-8908-b9e1bdb7c7f6",
   "metadata": {},
   "outputs": [],
   "source": [
    "def derive_hashset(dna: str, salt: str, size: int) -> List[int]:\n",
    "    hashes = []\n",
    "    for i in range(0, len(dna), size):\n",
    "        dna_masked = dna[i:i+size] + salt\n",
    "        hashes.append(hashlib.sha256(dna_masked.encode('ascii')).hexdigest()[:4])\n",
    "    return hashes"
   ]
  },
  {
   "cell_type": "code",
   "execution_count": 9,
   "id": "79387f0e-4db4-441c-a200-5208502ecca1",
   "metadata": {},
   "outputs": [
    {
     "name": "stdout",
     "output_type": "stream",
     "text": [
      "['8858', '19ab', 'a59e', '50fc', '1e8d', 'fb14', '6542', '11cf', '1ae6', '7638']\n"
     ]
    }
   ],
   "source": [
    "hs1 = derive_hashset(test, 'thisismysalt', 5)\n",
    "print(hs1)"
   ]
  },
  {
   "cell_type": "code",
   "execution_count": 10,
   "id": "14eb454a-4fe5-436c-8cd6-4e3fdef7ba7b",
   "metadata": {},
   "outputs": [
    {
     "name": "stdout",
     "output_type": "stream",
     "text": [
      "['8858', '19ab', '1cb2', '50fc', '1e8d', 'fb14', 'da5f', 'cbdf', '1ae6', '7638']\n"
     ]
    }
   ],
   "source": [
    "hs2 = derive_hashset(perturbed, 'thisismysalt', 5)\n",
    "print(hs2)"
   ]
  },
  {
   "cell_type": "code",
   "execution_count": 11,
   "id": "86b8ec9c-b5fd-4159-86c8-61303227e943",
   "metadata": {},
   "outputs": [],
   "source": [
    "def compute_hashset_matches(hs1: List[str], hs2: List[str]) -> int:\n",
    "    matches = 0\n",
    "    for h1, h2 in zip(hs1, hs2):\n",
    "        matches += 1 if h1 == h2 else 0\n",
    "    return matches"
   ]
  },
  {
   "cell_type": "code",
   "execution_count": 12,
   "id": "e466d61a-8593-412d-831a-f5592be5c97f",
   "metadata": {},
   "outputs": [
    {
     "data": {
      "text/plain": [
       "7"
      ]
     },
     "execution_count": 12,
     "metadata": {},
     "output_type": "execute_result"
    }
   ],
   "source": [
    "compute_hashset_matches(hs1, hs2)"
   ]
  },
  {
   "cell_type": "markdown",
   "id": "ecbcffed-5b3d-49f2-b31f-ffb8c3b0a620",
   "metadata": {},
   "source": [
    "# Simple simulator"
   ]
  },
  {
   "cell_type": "code",
   "execution_count": 13,
   "id": "7a658886-41b7-429f-9e0f-a0553edd4440",
   "metadata": {},
   "outputs": [
    {
     "data": {
      "text/plain": [
       "'GTTGGTCGCTCTGAAGTCGTACCTCGCTGCGTGTAAACGCCTATTTACCAGACGCAAACAGACTTGTAAACCTTGCGGTGAGTTGGCTCGTAGGAAAACGTCCCAAGTGATTAAGTGATCGCTCTTCCTACTTACGTACGGACGTGCAAACTATACAAAGTCTCTTCTGAAGTCCCATATCTCCATAAAGAGAAAAGTTAGGCCCGCGCTAGTAAAGCAACCTTTATACTACTTAGCATCTAATCACTTCAGATTAATTTAGGACCATCCTGTTACTCTTATCGTTCAGATTGTGGCGTA'"
      ]
     },
     "execution_count": 13,
     "metadata": {},
     "output_type": "execute_result"
    }
   ],
   "source": [
    "reference_dna = make_random_dna(300)\n",
    "reference_dna"
   ]
  },
  {
   "cell_type": "code",
   "execution_count": 14,
   "id": "1ffb4d1b-4426-4c0b-b155-7e3853776b54",
   "metadata": {},
   "outputs": [
    {
     "name": "stdout",
     "output_type": "stream",
     "text": [
      "['9885', '5cae', '7dee', '2ba1', '55b1', '5447', 'c253', 'fcfa', 'cf4b', 'c961', 'd859', '4032', '1707', '89d9', '82e9', 'eb46', '4166', 'e3a4', '1217', 'f1c1', '0137', 'd615', 'a9f8', '9dd2', '53e5', '9a3c', 'c05a', 'b895', 'f90b', '809c', 'f2dd', '5a68', '0cc9', '350d', '3bfe', '83e9', 'cae8', 'b305', 'c51c', '8490', '0eb2', 'b458', '15eb', 'fd72', '5269', 'f3ca', 'd147', '0755', 'f6f5', '7b22', '9277', '389c', '0079', '87f6', '9914', 'f066', '8856', '5865', '43e9', 'faa8']\n"
     ]
    }
   ],
   "source": [
    "salt = 'thisismysalt'\n",
    "crib_size = 5\n",
    "crib_count = 300 / crib_size\n",
    "reference_hashset = derive_hashset(reference_dna, 'thisismysalt', crib_size)\n",
    "runs = 100000\n",
    "device_error_rate = 0.01\n",
    "population_diff_rate = 0.2\n",
    "\n",
    "print(reference_hashset)"
   ]
  },
  {
   "cell_type": "code",
   "execution_count": 15,
   "id": "e48e09e1-c5f9-47e9-96da-ca09e068e821",
   "metadata": {},
   "outputs": [
    {
     "name": "stdout",
     "output_type": "stream",
     "text": [
      "[59, 59, 56, 57, 57, 60, 57, 56, 52, 60]\n",
      "TP matches with max 1 error : 19999\n",
      "TP matches with max 2 errors: 43090\n",
      "TP matches with max 3 errors: 66168\n",
      "TP matches with max 4 errors: 83017\n",
      "TP matches with max 8 errors: 99726\n"
     ]
    }
   ],
   "source": [
    "# test matcher TP rate\n",
    "tp_matches = []\n",
    "for i in range(runs):\n",
    "    dna_with_error = perturb_random_dna(reference_dna, device_error_rate)\n",
    "    hashset_from_error = derive_hashset(dna_with_error, salt, crib_size)\n",
    "    tp_matches.append(compute_hashset_matches(reference_hashset, hashset_from_error))\n",
    "    \n",
    "print(tp_matches[:10])\n",
    "\n",
    "tp_matches_np = np.array(tp_matches)\n",
    "print('TP matches with max 1 error : {}'.format(sum(tp_matches_np >= crib_count - 1)))\n",
    "print('TP matches with max 2 errors: {}'.format(sum(tp_matches_np >= crib_count - 2)))\n",
    "print('TP matches with max 3 errors: {}'.format(sum(tp_matches_np >= crib_count - 3)))\n",
    "print('TP matches with max 4 errors: {}'.format(sum(tp_matches_np >= crib_count - 4)))\n",
    "print('TP matches with max 8 errors: {}'.format(sum(tp_matches_np >= crib_count - 8)))"
   ]
  },
  {
   "cell_type": "code",
   "execution_count": 16,
   "id": "9924c17f-ef65-4226-aab3-6396b5d4ab98",
   "metadata": {},
   "outputs": [
    {
     "name": "stdout",
     "output_type": "stream",
     "text": [
      "FP matches with max 1 error : 0\n",
      "FP matches with max 2 errors: 0\n",
      "FP matches with max 3 errors: 0\n",
      "FP matches with max 4 errors: 0\n",
      "FP matches with max 8 errors: 0\n",
      "Other-DNA matches with > k matches\n",
      "Hits with at least 1 matches: 100000\n",
      "Hits with at least 2 matches: 100000\n",
      "Hits with at least 3 matches: 100000\n",
      "Hits with at least 4 matches: 100000\n",
      "Hits with at least 5 matches: 99999\n",
      "Hits with at least 6 matches: 99997\n",
      "Hits with at least 7 matches: 99980\n",
      "Hits with at least 8 matches: 99950\n",
      "Hits with at least 9 matches: 99846\n",
      "Hits with at least 10 matches: 99564\n",
      "Hits with at least 11 matches: 98992\n",
      "Hits with at least 12 matches: 97815\n",
      "Hits with at least 13 matches: 95680\n",
      "Hits with at least 14 matches: 92369\n"
     ]
    }
   ],
   "source": [
    "# test matcher FP rate\n",
    "fp_matches = []\n",
    "for i in range(runs):\n",
    "    different_dna = perturb_random_dna(reference_dna, population_diff_rate)\n",
    "    hashset_from_other_dna = derive_hashset(different_dna, salt, crib_size)\n",
    "    fp_matches.append(compute_hashset_matches(reference_hashset, hashset_from_other_dna))\n",
    "\n",
    "fp_matches_np = np.array(fp_matches)\n",
    "print('FP matches with max 1 error : {}'.format(sum(fp_matches_np >= crib_count - 1)))\n",
    "print('FP matches with max 2 errors: {}'.format(sum(fp_matches_np >= crib_count - 2)))\n",
    "print('FP matches with max 3 errors: {}'.format(sum(fp_matches_np >= crib_count - 3)))\n",
    "print('FP matches with max 4 errors: {}'.format(sum(fp_matches_np >= crib_count - 4)))\n",
    "print('FP matches with max 8 errors: {}'.format(sum(fp_matches_np >= crib_count - 8)))\n",
    "\n",
    "print('Other-DNA matches with > k matches')\n",
    "for k in range(1, 15):\n",
    "    print('Hits with at least {} matches: {}'.format(k, sum(fp_matches_np > k)))"
   ]
  },
  {
   "cell_type": "code",
   "execution_count": 17,
   "id": "1eae636a-3606-4e57-ae80-7e7b71b61f95",
   "metadata": {
    "jupyter": {
     "source_hidden": true
    },
    "tags": []
   },
   "outputs": [
    {
     "data": {
      "image/png": "[encoded data removed]",
      "text/plain": [
       "<Figure size 720x504 with 1 Axes>"
      ]
     },
     "metadata": {
      "needs_background": "light"
     },
     "output_type": "display_data"
    }
   ],
   "source": [
    "plt.figure(figsize=(10,7))\n",
    "#counts, bin_edges = np.histogram(tp_matches, bins=int(crib_count)+1, normed=True)\n",
    "#tp_cdf = np.cumsum(counts) / np.sum(counts)\n",
    "#plt.plot(bin_edges[1:], tp_cdf, color='blue')\n",
    "\n",
    "plt.hist(tp_matches, color='blue', density=True)\n",
    "#counts, bin_edges = np.histogram(fp_matches, bins=int(crib_count)+1, normed=True)\n",
    "#fp_cdf = np.cumsum(counts) / np.sum(counts)\n",
    "#plt.plot(bin_edges[1:], fp_cdf, color='red')\n",
    "\n",
    "plt.hist(fp_matches, color='red', density=True)\n",
    "plt.legend(['true positive matches', 'false positive matches'])\n",
    "plt.title('Histogram od # matched cribs');"
   ]
  },
  {
   "cell_type": "code",
   "execution_count": 18,
   "id": "79b450f3-d99b-45f7-86f3-32eed2afc451",
   "metadata": {},
   "outputs": [
    {
     "name": "stdout",
     "output_type": "stream",
     "text": [
      "TGTCCACTTTCGCAGCTGTCAGTGTGGTCCGCGATGCACCTGTGCCCTCTCTGCGCAGACTGACTCGACTGCACTTAGGCTATAGGGAGACGCTGATTGC\n",
      "CTTGGACGTAACGTCACTCTAGGCATCCGTTCGGATACGTCGCTGGGCTCAAGAATGATCTCCACGAATACAAACCTATGAAACATCGGTCATAGGCTGC\n",
      "GCTGGTCGTGCTCTCCCTAGCAAACCGGCTGAAGTGGCTAGAATCTGTTAATTAAAAGTAATCCTGTGAGTAATTCCATCTCTCTCTGGTCTCTACGTAT\n",
      "CTCATCCGCCTGCAGTAAGGGAGCCAAAGCTGAGGGTCTGCGTTGTGGGAACGACACTTATAAGGCGGTGAGTTACACTCGTCAGCTCTCCCTCTTGTAG\n",
      "ATTTAGACGAAGCCCTCGGTCGACCCTGAACCGCGATGAGGGCGACCCAGCTGTAGCCGAACATGTTAAGGTGGAATACTTGGTCGCTCTTACCTCGGTG\n",
      "TGACGATTTTTCTCAAAAACTTCTGGCTTTCATGCCATCCATCTTAGGCTAATGTTGCCGTTAAACCTCTTAGTCACCCCTGACAAAGCTCCAGCGATCA\n",
      "GCGTTTGAACGCAACGTCCTATTCCTTATCGGTGTAAAATACGGGCCCATCTTTGCCGTCTGCAATGACGGAGCTGCGTGACTATACCATGAAGAATAAG\n",
      "CACTTAGCTCTTCGGTCGGCATACCCAGGCTCGCTAGGGGTTTCTCTGCCAGAGAGTTCTGGTAATGTATGAGGAGGCAAGTTGTCGCATGCTGAACTTA\n",
      "AGCACTCGTCCGTATCACTCAGTAAACAGTTATCCGTTGATAAGACGAACTGAGCGTTGCTCTTAAAGCAAGAATACAACTACTCCATGGGCGCGATGAC\n",
      "GCTGTGGGACCCTTTTCAACTTCACGTCTTTCCCATACATTCCAGACAGAAAGGATAGCCTCGGGCTATGCTACCCCACGGGTCTTTAGCTAGAGCAGTG\n",
      "ACGGGCTAATACTCTGGTGCAGCTGTAGAATTTCTATACACCTTGCTGTATATCGCGAGAATAAGGAACTGTCCATCCTAACTAGGAAGCTGACTACAAC\n",
      "CCTCGAGTGAGGCTAAATCCATCGGAGTAAACGATTTCGTTGTCCCCATCTGGCGCATTTGTCACGCACGCTCGGGTTATAGTGACCTGTCCCACAAATC\n",
      "TGCTATAGGGTACGCGGCGTCCGTGCAACACACCCTATGGCACAGATAAAGCTCACCGTGACGCACATACTTAGCGATAAATACCTAAGACCCTGGTTAC\n",
      "AAAATTTGGGCACCAGCCTAGGTGAGATTAAGCGAATAGGTTTATTAGCGTATTATGCGGGTCCTGAACAGGAGCCTGATTTTATACGGAATAGCGTCTG\n",
      "TGCTTGGGGCTCGTCAAACTGCGACCATTTTGCTCCTACCCTCTAGCACTCATTATATAATGATAGACTCCTGCGTGCCCGACCCATTGCCCGATGTGCA\n",
      "TTTGGTCCCAAAAGTAGACTAAGCCCAGAACTGTAGCTTGGTCCTTGAACTCAGATGGGCTCACGTGTGCTCGACGTCTTCCACGACCGTGGTTCTACCT\n",
      "AACGTGAAGATCGGGTGTGTAGGACGGGTATGCCACCACGCTGGTTTATTTATGTACTGCTGCTAGTGGGACACATTACTGAGAGATGGCACGTCCGCTG\n",
      "ACTAAAGTCTGTCGTAGAAAGTCAGCATAGGGCCCTTGTTCCCGTGGGAAACTGGAGAAGTAACATCGCCGACTCAGGTATTGTCATTGCGCGGGTGGTG\n",
      "CTAAACAGTTATTGGGGAGGGTGTACTCTGGGGAGCCCCAATTCGCACGCACTTGTCTTTCAGGCACGCTCCCATTGTAAAGATCTGGCACTAGAATATA\n",
      "AACCGCACTCACCCCATGCCACGAATTATCATACGGTTATAATAGTCGGGAGGGCGTCAATTATCTCTAGAGCTTTGTCTGGTGACTATCACCGATAATA\n",
      "CATACGAGCATGACCTCAGTGTTGCCTCCCTTGTGTCAAGAGCATGTCGGGCCGAGCGATGCGGCAAAAAATTTGGTCATTTTATCTCAAAGTTCTCAAA\n",
      "GAACAAAAGGTTAAAAAACAAATTCATGGTGAAATACGCAGGAGACATACGCATATACTGAAGGACCGTGTACGGGCTGGTAACCAATTGGACACGCCTC\n",
      "CACAGGATCTGTAACGGGAGAGAGACTAAGCCAGGTTGACTCGCCCGGGGCTCCGGACTTTAGCGTGTCTCTCATCGTACGCTTCCTCGCAGTTACGGGG\n",
      "CGTTAGCAGAGAATGCCGAGAGAGGCTCTGGTTTAGGATTCTTAACCGTATTTGCAGTAGAGTCTAAGCGGCTTGCGGTCCTTTCGAAAAGTATTCCCGC\n",
      "CATTGCTCGACACCCCATGTTCGCCACTACTCCAATCTGTCCTTTTGGGTCTATGGTCGGACGACATTTGGCGTACCGGATGCCACGCCGATACAAAATA\n",
      "TTCTCTACTATAAAAAGGCGGACTGGAACCTATCTCCACTACGTTCCGTCACTGCGCGGCGCGATTGTGTCGCGTGCTGACGGATCAAGAGACAGTGAAA\n",
      "ATCGAGTTCCGAACGTAAAAATCGAGCATTGCAGTGAAAGATTTTATATCGGGAGGAATAACACTGAAGTGCCTCCGAGACACGTGGAAATTGAAGTCTG\n",
      "AACGTTCAAGTAACAGTCTTTATACACCGGCAGCCTACGTTTAGCGTAATATTTAACGAACAGCCCCCAGAGTCGAAAAGTCCTTTGGATTTGTAAGAGA\n",
      "ACTGTCTCTGAGAGTCACCTAACATGATCAGAAGGCTGGGGCCCATCGGGCGTGAAGAGGGTGAATATGTCTTTGGTCGTAGGGGTAACTCGCTAATGCC\n",
      "GATCCACAATCAGCTGTGTTACAATTCCAATCAACATGCGAACAAGGGGCCGTGGGCCCCACCGCTCTTGAAGCCTAGTCCGAAAAGCGTAAGTGCCTTT\n",
      "CAACAAGCATACTGTCTGGTTACCTTGAAAGCTAGACCCGGCTATGCGCTAACAACTAAAAGGAATACAAACCTCGCCGGTGAGCCTGTCTGAAATGCTC\n",
      "TCACGCAATAGGACGTGTGGCCCCCTTTCTCTGACGGTAGGATGCAAATCTTAAGATGATGGACGTTCCATTCGGCCTCTGTATTCGAGTTCTTACCCTC\n",
      "CCCTCCTGTAGCTACATTCCGTGGAGGGATGCTTGACTAAAGGAAATACATTTAGTACCACCGCCAAGTGAATCAGATGACCATTTGGTGCGCGGTAATC\n",
      "CAACCCCACATATTAGTAATGAGTAACGTCTCCTACAGGCTGCATCGGGAGCACTATCTATAGTGAATCCGTTCCAACACGTAAGCCGTGAATCCCTCCA\n",
      "CTAAGCACTTCATCCCACCCGCACGATTAAGTAATCCCTTGATAATTGAATGTGATCCGTTATCCGCGTCACCTGATCGGGACAAAACCTGCCGCGTTGT\n",
      "TACTAGGCTTAGGACACGGCTGGAGCTTTGCGGGAATTTACAGCATTCCCTACACCGATCGTAAAGCAACCAGAGCATGATCTCGCTACGTTAATAGGTG\n",
      "CGAGGTAACTTGTCCTCTTACGATGGTGTGAGCTGGCTGTGGCTGTATTTTAGGAACGTCCGGTAAGATGTGATCCCAGCGCGCCAGACACGGTCGGCGT\n",
      "TGGAAAGCCAAGCGGTGCCAAATTGACCGCTTCGTGATCTGCAACAGGTCCCCGATCGGTTCATTGTCGGCTCCGCATAATAGGCAGTTTACGAACAGGA\n",
      "TTGAGCAGGGGTATCAGCCTGTTAGCTTGAAATCCCAACATTGCCGTTGATTAAACTGTCATGACTAAAGTTCGTCAACTGTGGTGGTTAAAGCCAAGGG\n",
      "CAAATGTAAGCTTGTCAAGACAAAGGAGGATTGATTTCCTTGTGCCAACCGTACGCTGGCACAATGGTTATGGATAATCCTGACCCACGCATTTGGACGT\n",
      "CTATGCCGCCCAAAGCTATCATTGTCGTCCACCAGACTACCGCCAATGGCCGGTGTACCGTGGGTGCAGGGGTGAGTTTTACAGAAAATTCGGACAGATT\n",
      "GTCGCGTTCAGTCTGTATCTTGCAGTGCAGAATCAACGGATTGCAGTGGAGGGTTAAAACGAAGTTTTAATTTCACAGTAAGCGATCGTGGCACGTTTCG\n",
      "TCCATGCAGACCTATCATCAAGGGTCTAACTTTCACCCCAGTAGTTTTAAAAGTGGCAATTAATTTCCCCAAGCTGCCGGGAACTCCAAAGAAACAGATA\n",
      "TGCTAAAGGATCGTGATCCTTTTAGCAGGGGGGAAATCTCACCTGCCCCCACGGCACCAGGTCAGTGCCAGATGCTAGTTGATGAAAGAGCAGAATAGCG\n",
      "ATCAGCAGTGTGAATCTAAGGCCAATACTCAATAGCATTGTATAGAACAGTGTACTCAAATCTCGGTACGTCTTTATCTGCCATATTGTGGCTATTGTTC\n",
      "GACCGCTATATGTGTCCTGTCCCGAAGGCTATCAACCAACAATGGTCAACATAGCGGTAGCGCCTTAAATTGGTCATCAATTACGATGCGTCGGCCAGTC\n",
      "CGATGCTAACCACCAGACCGGGATACACTTTGTACAAGGTTGGGGGACTTTCAAGCACGCTCGCGTTTAGCTATTAACGGTCGCTATGGGATTTGTAGTA\n",
      "ACGCTAGACCTTGTACTGCGCCTAATAGCATCGCCGTGCACCAAAACCACCTCAGGTCCGCCTAAACGTCAAGTCCCATCTAAAACATTATTCACGATAA\n",
      "CGACTAGAACAGTACAAAGCTGCCGCCGCGTGTGGTTGAAGCACCCTATTGGCCAATTAATGAGCAGTCACCTATGAAGGGAGGGTACATGGGGATCTGT\n",
      "TTCCCTTGGAGGCTCGTGCTCCGCGCAGATGAACGAGTGTCTAAGGTGGGAAAAAGATCACGGATCCAATTTGACCTTATCGAATTCAATGATTGGCAAA\n"
     ]
    }
   ],
   "source": [
    "# Example data\n",
    "for i in range(50):\n",
    "    print(make_random_dna(100))"
   ]
  },
  {
   "cell_type": "code",
   "execution_count": null,
   "id": "476ec0d2-eaa4-4e58-bafd-586df5d9aa1f",
   "metadata": {},
   "outputs": [],
   "source": []
  }
 ],
 "metadata": {
  "kernelspec": {
   "display_name": "Python 3 (ipykernel)",
   "language": "python",
   "name": "python3"
  },
  "language_info": {
   "codemirror_mode": {
    "name": "ipython",
    "version": 3
   },
   "file_extension": ".py",
   "mimetype": "text/x-python",
   "name": "python",
   "nbconvert_exporter": "python",
   "pygments_lexer": "ipython3",
   "version": "3.9.12"
  }
 },
 "nbformat": 4,
 "nbformat_minor": 5
}
